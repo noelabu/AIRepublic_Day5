{
  "cells": [
    {
      "cell_type": "code",
      "source": [
        "!pip install openai==0.28.1\n",
        "!pip install fpdf==1.7.2"
      ],
      "metadata": {
        "id": "lataKYH3l-T1",
        "colab": {
          "base_uri": "https://localhost:8080/"
        },
        "outputId": "64141270-714d-47d7-fff5-23445a191d48"
      },
      "id": "lataKYH3l-T1",
      "execution_count": null,
      "outputs": [
        {
          "output_type": "stream",
          "name": "stdout",
          "text": [
            "Requirement already satisfied: openai==0.28.1 in /usr/local/lib/python3.10/dist-packages (0.28.1)\n",
            "Requirement already satisfied: requests>=2.20 in /usr/local/lib/python3.10/dist-packages (from openai==0.28.1) (2.32.3)\n",
            "Requirement already satisfied: tqdm in /usr/local/lib/python3.10/dist-packages (from openai==0.28.1) (4.66.6)\n",
            "Requirement already satisfied: aiohttp in /usr/local/lib/python3.10/dist-packages (from openai==0.28.1) (3.10.10)\n",
            "Requirement already satisfied: charset-normalizer<4,>=2 in /usr/local/lib/python3.10/dist-packages (from requests>=2.20->openai==0.28.1) (3.4.0)\n",
            "Requirement already satisfied: idna<4,>=2.5 in /usr/local/lib/python3.10/dist-packages (from requests>=2.20->openai==0.28.1) (3.10)\n",
            "Requirement already satisfied: urllib3<3,>=1.21.1 in /usr/local/lib/python3.10/dist-packages (from requests>=2.20->openai==0.28.1) (2.2.3)\n",
            "Requirement already satisfied: certifi>=2017.4.17 in /usr/local/lib/python3.10/dist-packages (from requests>=2.20->openai==0.28.1) (2024.8.30)\n",
            "Requirement already satisfied: aiohappyeyeballs>=2.3.0 in /usr/local/lib/python3.10/dist-packages (from aiohttp->openai==0.28.1) (2.4.3)\n",
            "Requirement already satisfied: aiosignal>=1.1.2 in /usr/local/lib/python3.10/dist-packages (from aiohttp->openai==0.28.1) (1.3.1)\n",
            "Requirement already satisfied: attrs>=17.3.0 in /usr/local/lib/python3.10/dist-packages (from aiohttp->openai==0.28.1) (24.2.0)\n",
            "Requirement already satisfied: frozenlist>=1.1.1 in /usr/local/lib/python3.10/dist-packages (from aiohttp->openai==0.28.1) (1.5.0)\n",
            "Requirement already satisfied: multidict<7.0,>=4.5 in /usr/local/lib/python3.10/dist-packages (from aiohttp->openai==0.28.1) (6.1.0)\n",
            "Requirement already satisfied: yarl<2.0,>=1.12.0 in /usr/local/lib/python3.10/dist-packages (from aiohttp->openai==0.28.1) (1.17.1)\n",
            "Requirement already satisfied: async-timeout<5.0,>=4.0 in /usr/local/lib/python3.10/dist-packages (from aiohttp->openai==0.28.1) (4.0.3)\n",
            "Requirement already satisfied: typing-extensions>=4.1.0 in /usr/local/lib/python3.10/dist-packages (from multidict<7.0,>=4.5->aiohttp->openai==0.28.1) (4.12.2)\n",
            "Requirement already satisfied: propcache>=0.2.0 in /usr/local/lib/python3.10/dist-packages (from yarl<2.0,>=1.12.0->aiohttp->openai==0.28.1) (0.2.0)\n",
            "Requirement already satisfied: fpdf==1.7.2 in /usr/local/lib/python3.10/dist-packages (1.7.2)\n"
          ]
        }
      ]
    },
    {
      "cell_type": "code",
      "execution_count": null,
      "id": "48ef5895-994b-4287-be64-6bfc2d5cea03",
      "metadata": {
        "id": "48ef5895-994b-4287-be64-6bfc2d5cea03"
      },
      "outputs": [],
      "source": [
        "import pandas as pd\n",
        "import openai\n",
        "import time\n",
        "from fpdf import FPDF\n",
        "\n",
        "from google.colab import userdata\n",
        "\n",
        "openai.api_key = userdata.get('OPENAI_KEY')"
      ]
    },
    {
      "cell_type": "markdown",
      "source": [
        "## Load the dataset"
      ],
      "metadata": {
        "id": "71nyWCPo9mui"
      },
      "id": "71nyWCPo9mui"
    },
    {
      "cell_type": "code",
      "source": [
        "df = pd.read_csv('https://raw.githubusercontent.com/noelabu/AIRepublic_Day4/refs/heads/main/dataset/manila-logistics.csv', nrows=20)"
      ],
      "metadata": {
        "id": "iNEtAbnJma2J"
      },
      "id": "iNEtAbnJma2J",
      "execution_count": null,
      "outputs": []
    },
    {
      "cell_type": "code",
      "source": [
        "df.head(5)"
      ],
      "metadata": {
        "id": "Ye6HoobRmc2k",
        "colab": {
          "base_uri": "https://localhost:8080/",
          "height": 313
        },
        "outputId": "f3ceb2b8-733b-4bab-cccc-78d345b2bfdb"
      },
      "id": "Ye6HoobRmc2k",
      "execution_count": null,
      "outputs": [
        {
          "output_type": "execute_result",
          "data": {
            "text/plain": [
              "  delivery_id         area    neighborhood nearest_landmark  latitude  \\\n",
              "0   DEL000001       Makati       Poblacion        Greenbelt   14.5597   \n",
              "1   DEL000002          BGC     High Street          SM Aura   14.5488   \n",
              "2   DEL000003  Quezon City           Cubao     Gateway Mall   14.6750   \n",
              "3   DEL000004       Manila         Binondo  Lucky Chinatown   14.6005   \n",
              "4   DEL000005        Pasig  Ortigas Center      SM Megamall   14.5774   \n",
              "\n",
              "   longitude        delivery_time traffic_condition  traffic_multiplier  \\\n",
              "0   121.0284  2024-11-12 08:30:00      morning_rush                 1.8   \n",
              "1   121.0519  2024-11-12 14:15:00            midday                 1.2   \n",
              "2   121.0427  2024-11-12 18:45:00      evening_rush                 2.1   \n",
              "3   120.9832  2024-11-12 22:30:00             night                 0.9   \n",
              "4   121.0861  2024-11-13 07:45:00      morning_rush                 1.9   \n",
              "\n",
              "         parcel_type  priority  estimated_delivery_minutes  \\\n",
              "0         Medium Box   Express                        54.0   \n",
              "1      Small Package  Standard                        24.0   \n",
              "2          Large Box  Same Day                        84.0   \n",
              "3  Document Envelope  Next Day                        18.0   \n",
              "4      Small Package   Express                        47.5   \n",
              "\n",
              "       special_instructions  \n",
              "0         Call upon arrival  \n",
              "1      Leave at guard house  \n",
              "2        Signature required  \n",
              "3  No specific instructions  \n",
              "4               ID required  "
            ],
            "text/html": [
              "\n",
              "  <div id=\"df-6c403287-f3f9-4d7a-aad1-d12ae80cbe6d\" class=\"colab-df-container\">\n",
              "    <div>\n",
              "<style scoped>\n",
              "    .dataframe tbody tr th:only-of-type {\n",
              "        vertical-align: middle;\n",
              "    }\n",
              "\n",
              "    .dataframe tbody tr th {\n",
              "        vertical-align: top;\n",
              "    }\n",
              "\n",
              "    .dataframe thead th {\n",
              "        text-align: right;\n",
              "    }\n",
              "</style>\n",
              "<table border=\"1\" class=\"dataframe\">\n",
              "  <thead>\n",
              "    <tr style=\"text-align: right;\">\n",
              "      <th></th>\n",
              "      <th>delivery_id</th>\n",
              "      <th>area</th>\n",
              "      <th>neighborhood</th>\n",
              "      <th>nearest_landmark</th>\n",
              "      <th>latitude</th>\n",
              "      <th>longitude</th>\n",
              "      <th>delivery_time</th>\n",
              "      <th>traffic_condition</th>\n",
              "      <th>traffic_multiplier</th>\n",
              "      <th>parcel_type</th>\n",
              "      <th>priority</th>\n",
              "      <th>estimated_delivery_minutes</th>\n",
              "      <th>special_instructions</th>\n",
              "    </tr>\n",
              "  </thead>\n",
              "  <tbody>\n",
              "    <tr>\n",
              "      <th>0</th>\n",
              "      <td>DEL000001</td>\n",
              "      <td>Makati</td>\n",
              "      <td>Poblacion</td>\n",
              "      <td>Greenbelt</td>\n",
              "      <td>14.5597</td>\n",
              "      <td>121.0284</td>\n",
              "      <td>2024-11-12 08:30:00</td>\n",
              "      <td>morning_rush</td>\n",
              "      <td>1.8</td>\n",
              "      <td>Medium Box</td>\n",
              "      <td>Express</td>\n",
              "      <td>54.0</td>\n",
              "      <td>Call upon arrival</td>\n",
              "    </tr>\n",
              "    <tr>\n",
              "      <th>1</th>\n",
              "      <td>DEL000002</td>\n",
              "      <td>BGC</td>\n",
              "      <td>High Street</td>\n",
              "      <td>SM Aura</td>\n",
              "      <td>14.5488</td>\n",
              "      <td>121.0519</td>\n",
              "      <td>2024-11-12 14:15:00</td>\n",
              "      <td>midday</td>\n",
              "      <td>1.2</td>\n",
              "      <td>Small Package</td>\n",
              "      <td>Standard</td>\n",
              "      <td>24.0</td>\n",
              "      <td>Leave at guard house</td>\n",
              "    </tr>\n",
              "    <tr>\n",
              "      <th>2</th>\n",
              "      <td>DEL000003</td>\n",
              "      <td>Quezon City</td>\n",
              "      <td>Cubao</td>\n",
              "      <td>Gateway Mall</td>\n",
              "      <td>14.6750</td>\n",
              "      <td>121.0427</td>\n",
              "      <td>2024-11-12 18:45:00</td>\n",
              "      <td>evening_rush</td>\n",
              "      <td>2.1</td>\n",
              "      <td>Large Box</td>\n",
              "      <td>Same Day</td>\n",
              "      <td>84.0</td>\n",
              "      <td>Signature required</td>\n",
              "    </tr>\n",
              "    <tr>\n",
              "      <th>3</th>\n",
              "      <td>DEL000004</td>\n",
              "      <td>Manila</td>\n",
              "      <td>Binondo</td>\n",
              "      <td>Lucky Chinatown</td>\n",
              "      <td>14.6005</td>\n",
              "      <td>120.9832</td>\n",
              "      <td>2024-11-12 22:30:00</td>\n",
              "      <td>night</td>\n",
              "      <td>0.9</td>\n",
              "      <td>Document Envelope</td>\n",
              "      <td>Next Day</td>\n",
              "      <td>18.0</td>\n",
              "      <td>No specific instructions</td>\n",
              "    </tr>\n",
              "    <tr>\n",
              "      <th>4</th>\n",
              "      <td>DEL000005</td>\n",
              "      <td>Pasig</td>\n",
              "      <td>Ortigas Center</td>\n",
              "      <td>SM Megamall</td>\n",
              "      <td>14.5774</td>\n",
              "      <td>121.0861</td>\n",
              "      <td>2024-11-13 07:45:00</td>\n",
              "      <td>morning_rush</td>\n",
              "      <td>1.9</td>\n",
              "      <td>Small Package</td>\n",
              "      <td>Express</td>\n",
              "      <td>47.5</td>\n",
              "      <td>ID required</td>\n",
              "    </tr>\n",
              "  </tbody>\n",
              "</table>\n",
              "</div>\n",
              "    <div class=\"colab-df-buttons\">\n",
              "\n",
              "  <div class=\"colab-df-container\">\n",
              "    <button class=\"colab-df-convert\" onclick=\"convertToInteractive('df-6c403287-f3f9-4d7a-aad1-d12ae80cbe6d')\"\n",
              "            title=\"Convert this dataframe to an interactive table.\"\n",
              "            style=\"display:none;\">\n",
              "\n",
              "  <svg xmlns=\"http://www.w3.org/2000/svg\" height=\"24px\" viewBox=\"0 -960 960 960\">\n",
              "    <path d=\"M120-120v-720h720v720H120Zm60-500h600v-160H180v160Zm220 220h160v-160H400v160Zm0 220h160v-160H400v160ZM180-400h160v-160H180v160Zm440 0h160v-160H620v160ZM180-180h160v-160H180v160Zm440 0h160v-160H620v160Z\"/>\n",
              "  </svg>\n",
              "    </button>\n",
              "\n",
              "  <style>\n",
              "    .colab-df-container {\n",
              "      display:flex;\n",
              "      gap: 12px;\n",
              "    }\n",
              "\n",
              "    .colab-df-convert {\n",
              "      background-color: #E8F0FE;\n",
              "      border: none;\n",
              "      border-radius: 50%;\n",
              "      cursor: pointer;\n",
              "      display: none;\n",
              "      fill: #1967D2;\n",
              "      height: 32px;\n",
              "      padding: 0 0 0 0;\n",
              "      width: 32px;\n",
              "    }\n",
              "\n",
              "    .colab-df-convert:hover {\n",
              "      background-color: #E2EBFA;\n",
              "      box-shadow: 0px 1px 2px rgba(60, 64, 67, 0.3), 0px 1px 3px 1px rgba(60, 64, 67, 0.15);\n",
              "      fill: #174EA6;\n",
              "    }\n",
              "\n",
              "    .colab-df-buttons div {\n",
              "      margin-bottom: 4px;\n",
              "    }\n",
              "\n",
              "    [theme=dark] .colab-df-convert {\n",
              "      background-color: #3B4455;\n",
              "      fill: #D2E3FC;\n",
              "    }\n",
              "\n",
              "    [theme=dark] .colab-df-convert:hover {\n",
              "      background-color: #434B5C;\n",
              "      box-shadow: 0px 1px 3px 1px rgba(0, 0, 0, 0.15);\n",
              "      filter: drop-shadow(0px 1px 2px rgba(0, 0, 0, 0.3));\n",
              "      fill: #FFFFFF;\n",
              "    }\n",
              "  </style>\n",
              "\n",
              "    <script>\n",
              "      const buttonEl =\n",
              "        document.querySelector('#df-6c403287-f3f9-4d7a-aad1-d12ae80cbe6d button.colab-df-convert');\n",
              "      buttonEl.style.display =\n",
              "        google.colab.kernel.accessAllowed ? 'block' : 'none';\n",
              "\n",
              "      async function convertToInteractive(key) {\n",
              "        const element = document.querySelector('#df-6c403287-f3f9-4d7a-aad1-d12ae80cbe6d');\n",
              "        const dataTable =\n",
              "          await google.colab.kernel.invokeFunction('convertToInteractive',\n",
              "                                                    [key], {});\n",
              "        if (!dataTable) return;\n",
              "\n",
              "        const docLinkHtml = 'Like what you see? Visit the ' +\n",
              "          '<a target=\"_blank\" href=https://colab.research.google.com/notebooks/data_table.ipynb>data table notebook</a>'\n",
              "          + ' to learn more about interactive tables.';\n",
              "        element.innerHTML = '';\n",
              "        dataTable['output_type'] = 'display_data';\n",
              "        await google.colab.output.renderOutput(dataTable, element);\n",
              "        const docLink = document.createElement('div');\n",
              "        docLink.innerHTML = docLinkHtml;\n",
              "        element.appendChild(docLink);\n",
              "      }\n",
              "    </script>\n",
              "  </div>\n",
              "\n",
              "\n",
              "<div id=\"df-77b1e25c-ab3e-4e20-9e43-e77d61986522\">\n",
              "  <button class=\"colab-df-quickchart\" onclick=\"quickchart('df-77b1e25c-ab3e-4e20-9e43-e77d61986522')\"\n",
              "            title=\"Suggest charts\"\n",
              "            style=\"display:none;\">\n",
              "\n",
              "<svg xmlns=\"http://www.w3.org/2000/svg\" height=\"24px\"viewBox=\"0 0 24 24\"\n",
              "     width=\"24px\">\n",
              "    <g>\n",
              "        <path d=\"M19 3H5c-1.1 0-2 .9-2 2v14c0 1.1.9 2 2 2h14c1.1 0 2-.9 2-2V5c0-1.1-.9-2-2-2zM9 17H7v-7h2v7zm4 0h-2V7h2v10zm4 0h-2v-4h2v4z\"/>\n",
              "    </g>\n",
              "</svg>\n",
              "  </button>\n",
              "\n",
              "<style>\n",
              "  .colab-df-quickchart {\n",
              "      --bg-color: #E8F0FE;\n",
              "      --fill-color: #1967D2;\n",
              "      --hover-bg-color: #E2EBFA;\n",
              "      --hover-fill-color: #174EA6;\n",
              "      --disabled-fill-color: #AAA;\n",
              "      --disabled-bg-color: #DDD;\n",
              "  }\n",
              "\n",
              "  [theme=dark] .colab-df-quickchart {\n",
              "      --bg-color: #3B4455;\n",
              "      --fill-color: #D2E3FC;\n",
              "      --hover-bg-color: #434B5C;\n",
              "      --hover-fill-color: #FFFFFF;\n",
              "      --disabled-bg-color: #3B4455;\n",
              "      --disabled-fill-color: #666;\n",
              "  }\n",
              "\n",
              "  .colab-df-quickchart {\n",
              "    background-color: var(--bg-color);\n",
              "    border: none;\n",
              "    border-radius: 50%;\n",
              "    cursor: pointer;\n",
              "    display: none;\n",
              "    fill: var(--fill-color);\n",
              "    height: 32px;\n",
              "    padding: 0;\n",
              "    width: 32px;\n",
              "  }\n",
              "\n",
              "  .colab-df-quickchart:hover {\n",
              "    background-color: var(--hover-bg-color);\n",
              "    box-shadow: 0 1px 2px rgba(60, 64, 67, 0.3), 0 1px 3px 1px rgba(60, 64, 67, 0.15);\n",
              "    fill: var(--button-hover-fill-color);\n",
              "  }\n",
              "\n",
              "  .colab-df-quickchart-complete:disabled,\n",
              "  .colab-df-quickchart-complete:disabled:hover {\n",
              "    background-color: var(--disabled-bg-color);\n",
              "    fill: var(--disabled-fill-color);\n",
              "    box-shadow: none;\n",
              "  }\n",
              "\n",
              "  .colab-df-spinner {\n",
              "    border: 2px solid var(--fill-color);\n",
              "    border-color: transparent;\n",
              "    border-bottom-color: var(--fill-color);\n",
              "    animation:\n",
              "      spin 1s steps(1) infinite;\n",
              "  }\n",
              "\n",
              "  @keyframes spin {\n",
              "    0% {\n",
              "      border-color: transparent;\n",
              "      border-bottom-color: var(--fill-color);\n",
              "      border-left-color: var(--fill-color);\n",
              "    }\n",
              "    20% {\n",
              "      border-color: transparent;\n",
              "      border-left-color: var(--fill-color);\n",
              "      border-top-color: var(--fill-color);\n",
              "    }\n",
              "    30% {\n",
              "      border-color: transparent;\n",
              "      border-left-color: var(--fill-color);\n",
              "      border-top-color: var(--fill-color);\n",
              "      border-right-color: var(--fill-color);\n",
              "    }\n",
              "    40% {\n",
              "      border-color: transparent;\n",
              "      border-right-color: var(--fill-color);\n",
              "      border-top-color: var(--fill-color);\n",
              "    }\n",
              "    60% {\n",
              "      border-color: transparent;\n",
              "      border-right-color: var(--fill-color);\n",
              "    }\n",
              "    80% {\n",
              "      border-color: transparent;\n",
              "      border-right-color: var(--fill-color);\n",
              "      border-bottom-color: var(--fill-color);\n",
              "    }\n",
              "    90% {\n",
              "      border-color: transparent;\n",
              "      border-bottom-color: var(--fill-color);\n",
              "    }\n",
              "  }\n",
              "</style>\n",
              "\n",
              "  <script>\n",
              "    async function quickchart(key) {\n",
              "      const quickchartButtonEl =\n",
              "        document.querySelector('#' + key + ' button');\n",
              "      quickchartButtonEl.disabled = true;  // To prevent multiple clicks.\n",
              "      quickchartButtonEl.classList.add('colab-df-spinner');\n",
              "      try {\n",
              "        const charts = await google.colab.kernel.invokeFunction(\n",
              "            'suggestCharts', [key], {});\n",
              "      } catch (error) {\n",
              "        console.error('Error during call to suggestCharts:', error);\n",
              "      }\n",
              "      quickchartButtonEl.classList.remove('colab-df-spinner');\n",
              "      quickchartButtonEl.classList.add('colab-df-quickchart-complete');\n",
              "    }\n",
              "    (() => {\n",
              "      let quickchartButtonEl =\n",
              "        document.querySelector('#df-77b1e25c-ab3e-4e20-9e43-e77d61986522 button');\n",
              "      quickchartButtonEl.style.display =\n",
              "        google.colab.kernel.accessAllowed ? 'block' : 'none';\n",
              "    })();\n",
              "  </script>\n",
              "</div>\n",
              "\n",
              "    </div>\n",
              "  </div>\n"
            ],
            "application/vnd.google.colaboratory.intrinsic+json": {
              "type": "dataframe",
              "variable_name": "df",
              "summary": "{\n  \"name\": \"df\",\n  \"rows\": 20,\n  \"fields\": [\n    {\n      \"column\": \"delivery_id\",\n      \"properties\": {\n        \"dtype\": \"string\",\n        \"num_unique_values\": 20,\n        \"samples\": [\n          \"DEL000001\",\n          \"DEL000018\",\n          \"DEL000016\"\n        ],\n        \"semantic_type\": \"\",\n        \"description\": \"\"\n      }\n    },\n    {\n      \"column\": \"area\",\n      \"properties\": {\n        \"dtype\": \"category\",\n        \"num_unique_values\": 5,\n        \"samples\": [\n          \"BGC\",\n          \"Pasig\",\n          \"Quezon City\"\n        ],\n        \"semantic_type\": \"\",\n        \"description\": \"\"\n      }\n    },\n    {\n      \"column\": \"neighborhood\",\n      \"properties\": {\n        \"dtype\": \"string\",\n        \"num_unique_values\": 20,\n        \"samples\": [\n          \"Poblacion\",\n          \"Eastwood\",\n          \"Magallanes\"\n        ],\n        \"semantic_type\": \"\",\n        \"description\": \"\"\n      }\n    },\n    {\n      \"column\": \"nearest_landmark\",\n      \"properties\": {\n        \"dtype\": \"string\",\n        \"num_unique_values\": 20,\n        \"samples\": [\n          \"Greenbelt\",\n          \"Eastwood City\",\n          \"SM Makati\"\n        ],\n        \"semantic_type\": \"\",\n        \"description\": \"\"\n      }\n    },\n    {\n      \"column\": \"latitude\",\n      \"properties\": {\n        \"dtype\": \"number\",\n        \"std\": 0.046846688362426704,\n        \"min\": 14.5488,\n        \"max\": 14.677,\n        \"num_unique_values\": 15,\n        \"samples\": [\n          14.5754,\n          14.5518,\n          14.5597\n        ],\n        \"semantic_type\": \"\",\n        \"description\": \"\"\n      }\n    },\n    {\n      \"column\": \"longitude\",\n      \"properties\": {\n        \"dtype\": \"number\",\n        \"std\": 0.034723303262704314,\n        \"min\": 120.9822,\n        \"max\": 121.0871,\n        \"num_unique_values\": 16,\n        \"samples\": [\n          121.0284,\n          121.0519,\n          121.0254\n        ],\n        \"semantic_type\": \"\",\n        \"description\": \"\"\n      }\n    },\n    {\n      \"column\": \"delivery_time\",\n      \"properties\": {\n        \"dtype\": \"object\",\n        \"num_unique_values\": 20,\n        \"samples\": [\n          \"2024-11-12 08:30:00\",\n          \"2024-11-16 14:00:00\",\n          \"2024-11-15 22:15:00\"\n        ],\n        \"semantic_type\": \"\",\n        \"description\": \"\"\n      }\n    },\n    {\n      \"column\": \"traffic_condition\",\n      \"properties\": {\n        \"dtype\": \"category\",\n        \"num_unique_values\": 4,\n        \"samples\": [\n          \"midday\",\n          \"night\",\n          \"morning_rush\"\n        ],\n        \"semantic_type\": \"\",\n        \"description\": \"\"\n      }\n    },\n    {\n      \"column\": \"traffic_multiplier\",\n      \"properties\": {\n        \"dtype\": \"number\",\n        \"std\": 0.5050013027601747,\n        \"min\": 0.8,\n        \"max\": 2.2,\n        \"num_unique_values\": 11,\n        \"samples\": [\n          1.1,\n          1.8,\n          1.3\n        ],\n        \"semantic_type\": \"\",\n        \"description\": \"\"\n      }\n    },\n    {\n      \"column\": \"parcel_type\",\n      \"properties\": {\n        \"dtype\": \"category\",\n        \"num_unique_values\": 4,\n        \"samples\": [\n          \"Small Package\",\n          \"Document Envelope\",\n          \"Medium Box\"\n        ],\n        \"semantic_type\": \"\",\n        \"description\": \"\"\n      }\n    },\n    {\n      \"column\": \"priority\",\n      \"properties\": {\n        \"dtype\": \"category\",\n        \"num_unique_values\": 4,\n        \"samples\": [\n          \"Standard\",\n          \"Next Day\",\n          \"Express\"\n        ],\n        \"semantic_type\": \"\",\n        \"description\": \"\"\n      }\n    },\n    {\n      \"column\": \"estimated_delivery_minutes\",\n      \"properties\": {\n        \"dtype\": \"number\",\n        \"std\": 25.251367862897418,\n        \"min\": 16.0,\n        \"max\": 88.0,\n        \"num_unique_values\": 13,\n        \"samples\": [\n          45.0,\n          45.5,\n          54.0\n        ],\n        \"semantic_type\": \"\",\n        \"description\": \"\"\n      }\n    },\n    {\n      \"column\": \"special_instructions\",\n      \"properties\": {\n        \"dtype\": \"category\",\n        \"num_unique_values\": 5,\n        \"samples\": [\n          \"Leave at guard house\",\n          \"ID required\",\n          \"Signature required\"\n        ],\n        \"semantic_type\": \"\",\n        \"description\": \"\"\n      }\n    }\n  ]\n}"
            }
          },
          "metadata": {},
          "execution_count": 9
        }
      ]
    },
    {
      "cell_type": "markdown",
      "source": [
        "## Understanding the Dataset"
      ],
      "metadata": {
        "id": "QusTNnFu92Jx"
      },
      "id": "QusTNnFu92Jx"
    },
    {
      "cell_type": "code",
      "source": [
        "# Get Column Names and Data Types\n",
        "col_info = df.dtypes\n",
        "print(col_info)\n",
        "\n"
      ],
      "metadata": {
        "id": "xTpEc-cd8-_l",
        "colab": {
          "base_uri": "https://localhost:8080/"
        },
        "outputId": "fb52a715-b680-4e8e-acb8-215fe73b8ef5"
      },
      "id": "xTpEc-cd8-_l",
      "execution_count": null,
      "outputs": [
        {
          "output_type": "stream",
          "name": "stdout",
          "text": [
            "delivery_id                    object\n",
            "area                           object\n",
            "neighborhood                   object\n",
            "nearest_landmark               object\n",
            "latitude                      float64\n",
            "longitude                     float64\n",
            "delivery_time                  object\n",
            "traffic_condition              object\n",
            "traffic_multiplier            float64\n",
            "parcel_type                    object\n",
            "priority                       object\n",
            "estimated_delivery_minutes    float64\n",
            "special_instructions           object\n",
            "dtype: object\n"
          ]
        }
      ]
    },
    {
      "cell_type": "code",
      "source": [
        "# Identify Categorical and Numerical Features\n",
        "categorical_features = df.select_dtypes(include=['object']).columns\n",
        "numerical_features = df.select_dtypes(include=['int64', 'float64']).columns\n",
        "\n",
        "print(\"Categorical Features:\", categorical_features)\n",
        "print(\"Numerical Features:\", numerical_features)\n",
        "\n"
      ],
      "metadata": {
        "id": "0TYP9kiM-E0W",
        "colab": {
          "base_uri": "https://localhost:8080/"
        },
        "outputId": "e22b81eb-c0b9-4366-e6b5-c302d428c9f9"
      },
      "id": "0TYP9kiM-E0W",
      "execution_count": null,
      "outputs": [
        {
          "output_type": "stream",
          "name": "stdout",
          "text": [
            "Categorical Features: Index(['delivery_id', 'area', 'neighborhood', 'nearest_landmark',\n",
            "       'delivery_time', 'traffic_condition', 'parcel_type', 'priority',\n",
            "       'special_instructions'],\n",
            "      dtype='object')\n",
            "Numerical Features: Index(['latitude', 'longitude', 'traffic_multiplier',\n",
            "       'estimated_delivery_minutes'],\n",
            "      dtype='object')\n"
          ]
        }
      ]
    },
    {
      "cell_type": "code",
      "execution_count": null,
      "id": "422cc4d7-966b-4ea8-b991-df4a21f8ac64",
      "metadata": {
        "id": "422cc4d7-966b-4ea8-b991-df4a21f8ac64",
        "colab": {
          "base_uri": "https://localhost:8080/"
        },
        "outputId": "38ee20f4-ad81-43fa-e4cb-1fe3ebc7c9cd"
      },
      "outputs": [
        {
          "output_type": "stream",
          "name": "stdout",
          "text": [
            "delivery_id: DEL000001, DEL000002, DEL000003, DEL000004, DEL000005, DEL000006, DEL000007, DEL000008, DEL000009, DEL000010, ...\n",
            "area: Makati, BGC, Quezon City, Manila, Pasig\n",
            "neighborhood: Poblacion, High Street, Cubao, Binondo, Ortigas Center, Bel-Air, McKinley Hill, Katipunan, Malate, Kapitolyo, ...\n",
            "nearest_landmark: Greenbelt, SM Aura, Gateway Mall, Lucky Chinatown, SM Megamall, Ayala Avenue, Venice Grand Canal, Trinoma, Robinsons Place, The Medical City, ...\n",
            "delivery_time: 2024-11-12 08:30:00, 2024-11-12 14:15:00, 2024-11-12 18:45:00, 2024-11-12 22:30:00, 2024-11-13 07:45:00, 2024-11-13 11:20:00, 2024-11-13 17:30:00, 2024-11-13 21:15:00, 2024-11-14 09:00:00, 2024-11-14 13:45:00, ...\n",
            "traffic_condition: morning_rush, midday, evening_rush, night\n",
            "parcel_type: Medium Box, Small Package, Large Box, Document Envelope\n",
            "priority: Express, Standard, Same Day, Next Day\n",
            "special_instructions: Call upon arrival, Leave at guard house, Signature required, No specific instructions, ID required\n"
          ]
        }
      ],
      "source": [
        "# Get Unique Values for Categorical Features with Limitation\n",
        "def get_unique_values(col, max_display=10):\n",
        "    unique_values = df[col].unique().tolist()\n",
        "    if len(unique_values) > max_display:\n",
        "        unique_values = unique_values[:max_display] + ['...']\n",
        "    return unique_values\n",
        "\n",
        "unique_values_dict = {col: get_unique_values(col) for col in categorical_features}\n",
        "#print(unique_values_dict)\n",
        "for col, values in unique_values_dict.items():\n",
        "    print(f\"{col}: {', '.join(values)}\")"
      ]
    },
    {
      "cell_type": "code",
      "source": [
        "# Get Descriptive Statistics for Numerical Features\n",
        "numerical_stats = df[numerical_features].describe()\n",
        "print(numerical_stats)\n"
      ],
      "metadata": {
        "id": "CbfloRag9Kup",
        "colab": {
          "base_uri": "https://localhost:8080/"
        },
        "outputId": "c446371e-50a6-4ee0-c1c6-b459927eacb7"
      },
      "id": "CbfloRag9Kup",
      "execution_count": null,
      "outputs": [
        {
          "output_type": "stream",
          "name": "stdout",
          "text": [
            "        latitude   longitude  traffic_multiplier  estimated_delivery_minutes\n",
            "count  20.000000   20.000000           20.000000                   20.000000\n",
            "mean   14.591580  121.038360            1.485000                   45.500000\n",
            "std     0.046847    0.034723            0.505001                   25.251368\n",
            "min    14.548800  120.982200            0.800000                   16.000000\n",
            "25%    14.553700  121.023150            1.050000                   22.500000\n",
            "50%    14.576900  121.043700            1.500000                   43.750000\n",
            "75%    14.599000  121.054150            1.925000                   60.500000\n",
            "max    14.677000  121.087100            2.200000                   88.000000\n"
          ]
        }
      ]
    },
    {
      "cell_type": "markdown",
      "source": [
        "## Generating the Template"
      ],
      "metadata": {
        "id": "7J1vcAcp-LO_"
      },
      "id": "7J1vcAcp-LO_"
    },
    {
      "cell_type": "code",
      "execution_count": null,
      "id": "eddf122d-9766-408c-88df-b84ef9a649cf",
      "metadata": {
        "id": "eddf122d-9766-408c-88df-b84ef9a649cf"
      },
      "outputs": [],
      "source": [
        "def generate_template(\n",
        "    df,\n",
        "    column_info,\n",
        "    categorical_features,\n",
        "    numerical_features,\n",
        "    unique_values_dict,\n",
        "    numerical_stats\n",
        "):\n",
        "\n",
        "    # Construct a summary of the dataframe's structure\n",
        "    column_summary = \"Column Names and Data Types:\\n\"\n",
        "    for col, dtype in col_info.items():\n",
        "        column_summary += f\"{col}: {dtype}\\n\"\n",
        "\n",
        "\n",
        "    # Unique values for categorical features\n",
        "    unique_values_str = \"Unique Values for Categorical Features:\\n\"\n",
        "    for col, values in unique_values_dict.items():\n",
        "        unique_values_str += f\"{col}: {', '.join(values)}\\n\"\n",
        "\n",
        "\n",
        "    # Descriptive statistics for numerical features\n",
        "    numerical_stats_str = \"Descriptive Statistics for Numerical Features:\\n\"\n",
        "    for col in numerical_features:\n",
        "        numerical_stats_str += f\"- {col}\\n\"\n",
        "        for stat_name, value in numerical_stats[col].items():\n",
        "            numerical_stats_str += f\"  {stat_name}: {value}\\n\"\n",
        "\n",
        "\n",
        "    # Define the system prompt\n",
        "    system_prompt =\"\"\"You are an intelligent assistant that creates descriptive templates for transforming dataframe rows into coherent paragraphs.\n",
        "    Analyze the provided dataframe structure and generate a template sentence that includes placeholders for each column.\n",
        "    Ensure the template is contextually relevant and maintains grammatical correctness.\"\"\"\n",
        "\n",
        "\n",
        "    # Define the user prompt\n",
        "    user_prompt = f\"\"\"\n",
        "    Analyze the following dataframe structure and create a descriptive template with placeholders for each column.\n",
        "\n",
        "    <column_summary>\n",
        "    {column_summary}\n",
        "    </column_summary>\n",
        "\n",
        "    <unique_values>\n",
        "    {unique_values_str}\n",
        "    </unique_values>\n",
        "\n",
        "    <numerical_stats>\n",
        "    {numerical_stats_str}\n",
        "    </numerical_stats>\n",
        "\n",
        "    Use the exact column names from the column_summary in generating the variable names in the template,\n",
        "    as they will be populated with the actual values in the dataset.\n",
        "\n",
        "    Example Template about a Spotify dataset:\n",
        "    \"{{artist}} gained {{streams}} streams in the song '{{song}}' that was a hit in {{date}}.\"\n",
        "\n",
        "\n",
        "    Output only the template without any explanation or introduction.\n",
        "    The template's variables will be dynamically replaced so make sure they're formatted properly.\n",
        "    \"\"\"\n",
        "\n",
        "    # Generate the template (with retries)\n",
        "    retries = 3\n",
        "    for attempt in range(retries):\n",
        "        try:\n",
        "            response = openai.ChatCompletion.create(\n",
        "                model=\"gpt-4o-mini\",\n",
        "                temperature=0.5,\n",
        "                max_tokens=1024,\n",
        "                messages=[\n",
        "                    {\"role\": \"system\", \"content\": system_prompt},\n",
        "                    {\"role\": \"user\", \"content\": user_prompt}\n",
        "                ]\n",
        "            )\n",
        "            template = response['choices'][0]['message']['content'].strip()\n",
        "            return template\n",
        "        except Exception as e:\n",
        "            print(f\"Error generating template (Attempt {attempt + 1}/{retries}): {e}\")\n",
        "            time.sleep(2)  # Wait before retrying\n",
        "\n",
        "    return None\n"
      ]
    },
    {
      "cell_type": "code",
      "execution_count": null,
      "id": "f8a0fd91-80de-4e08-8f86-44325a8accd3",
      "metadata": {
        "id": "f8a0fd91-80de-4e08-8f86-44325a8accd3",
        "colab": {
          "base_uri": "https://localhost:8080/"
        },
        "outputId": "b6f6a9d8-2958-4d54-eca0-82ab6d9a6c36"
      },
      "outputs": [
        {
          "output_type": "stream",
          "name": "stdout",
          "text": [
            "\"Delivery ID {delivery_id} is scheduled for delivery to the area of {area}, specifically in the neighborhood of {neighborhood}, near the landmark {nearest_landmark}. The delivery will take place on {delivery_time}, and is expected to encounter {traffic_condition} conditions, which will apply a traffic multiplier of {traffic_multiplier}. The parcel type is classified as a {parcel_type} with a priority level of {priority}, and it is estimated to take approximately {estimated_delivery_minutes} minutes to complete the delivery. Special instructions include: {special_instructions}.\"\n"
          ]
        }
      ],
      "source": [
        "# Generate the template\n",
        "template = generate_template(\n",
        "    df,\n",
        "    col_info,\n",
        "    categorical_features,\n",
        "    numerical_features,\n",
        "    unique_values_dict,\n",
        "    numerical_stats\n",
        ")\n",
        "print(template)\n"
      ]
    },
    {
      "cell_type": "markdown",
      "source": [
        "## Populating the Template with Actual Values"
      ],
      "metadata": {
        "id": "VWPq3mcY-r40"
      },
      "id": "VWPq3mcY-r40"
    },
    {
      "cell_type": "code",
      "execution_count": null,
      "id": "258e73ea-3500-49bb-9820-20637375dd55",
      "metadata": {
        "id": "258e73ea-3500-49bb-9820-20637375dd55"
      },
      "outputs": [],
      "source": [
        "def populate_template(template, row):\n",
        "\n",
        "    # Convert row to dictionary and replace NaN with 'N/A'\n",
        "    row_dict =  row.to_dict()\n",
        "    for key, value in row_dict.items():\n",
        "        if pd.isna(value):\n",
        "            row_dict[key] = 'N/A'\n",
        "\n",
        "    # Generate the populated template per row\n",
        "    paragraph = template.format(**row_dict)\n",
        "\n",
        "    return paragraph\n"
      ]
    },
    {
      "cell_type": "code",
      "source": [
        "# Apply the populate_template function to each row in the dataframe\n",
        "\n",
        "df['paragraph'] = df.apply(lambda row: populate_template(template, row), axis=1)"
      ],
      "metadata": {
        "id": "rIhyXGSD_Ke4"
      },
      "id": "rIhyXGSD_Ke4",
      "execution_count": null,
      "outputs": []
    },
    {
      "cell_type": "code",
      "source": [
        "df['paragraph'][0]"
      ],
      "metadata": {
        "colab": {
          "base_uri": "https://localhost:8080/",
          "height": 125
        },
        "id": "4_1jWzEgOnWJ",
        "outputId": "b3e6b65e-b327-492b-e40f-781875cde1bb"
      },
      "id": "4_1jWzEgOnWJ",
      "execution_count": null,
      "outputs": [
        {
          "output_type": "execute_result",
          "data": {
            "text/plain": [
              "'\"Delivery ID DEL000001 is scheduled for delivery to the Makati area, specifically in the Poblacion neighborhood, near the Greenbelt. The delivery is set for 2024-11-12 08:30:00 and will be affected by morning_rush traffic, resulting in a traffic multiplier of 1.8. The parcel type is a Medium Box with a priority level of Express. The estimated delivery time is approximately 54.0 minutes, and the special instructions include: Call upon arrival.\"'"
            ],
            "application/vnd.google.colaboratory.intrinsic+json": {
              "type": "string"
            }
          },
          "metadata": {},
          "execution_count": 28
        }
      ]
    },
    {
      "cell_type": "markdown",
      "source": [
        "## Saving the Populated Templates (Natural Language Texts)"
      ],
      "metadata": {
        "id": "bDO2V_0P_So1"
      },
      "id": "bDO2V_0P_So1"
    },
    {
      "cell_type": "code",
      "execution_count": null,
      "id": "0b26a4d3-b3d9-448b-ae5e-f2c8960718cd",
      "metadata": {
        "id": "0b26a4d3-b3d9-448b-ae5e-f2c8960718cd"
      },
      "outputs": [],
      "source": [
        "def save_content_to_txt(paragraphs ,txt_filename):\n",
        "  try:\n",
        "    with open(txt_filename, 'w') as file:\n",
        "      for paragraph in df['paragraph']:\n",
        "        file.write(paragraph + '\\n')\n",
        "    print(f\"Content saved to {txt_filename}\")\n",
        "  except Exception as e:\n",
        "    print(f\"Error saving content to {txt_filename}: {e}\")\n"
      ]
    },
    {
      "cell_type": "code",
      "execution_count": null,
      "id": "cb501277-4548-4f79-8b1e-fedafcff856f",
      "metadata": {
        "id": "cb501277-4548-4f79-8b1e-fedafcff856f"
      },
      "outputs": [],
      "source": [
        "def save_content_to_pdf(paragraphs, pdf_filename):\n",
        "  try:\n",
        "    pdf = FPDF()\n",
        "    pdf.add_page()\n",
        "    pdf.set_auto_page_break(auto=True, margin=15)\n",
        "    pdf.set_font(\"Arial\", size=12)\n",
        "\n",
        "    for para in paragraphs:\n",
        "      pdf.multi_cell(0, 10, para)\n",
        "      pdf.ln()\n",
        "\n",
        "    pdf.output(pdf_filename)\n",
        "    print(f\"Content saved to {pdf_filename}\")\n",
        "  except Exception as e:\n",
        "    print(f\"Error saving content to {pdf_filename}: {e}\")"
      ]
    },
    {
      "cell_type": "code",
      "execution_count": null,
      "id": "9ee0ce02-95de-4634-bdb3-63e285b9031a",
      "metadata": {
        "id": "9ee0ce02-95de-4634-bdb3-63e285b9031a",
        "colab": {
          "base_uri": "https://localhost:8080/"
        },
        "outputId": "8caf9293-2537-48f9-d220-2598b5895a4a"
      },
      "outputs": [
        {
          "output_type": "stream",
          "name": "stdout",
          "text": [
            "Content saved to paragraphs.txt\n",
            "Content saved to paragraphs.pdf\n"
          ]
        }
      ],
      "source": [
        "# Save the paragraphs to both text and PDF files\n",
        "save_content_to_txt(df['paragraph'].to_list(), 'paragraphs.txt')\n",
        "save_content_to_pdf(df['paragraph'].to_list(), 'paragraphs.pdf')"
      ]
    },
    {
      "cell_type": "markdown",
      "source": [],
      "metadata": {
        "id": "ObObq_bATeid"
      },
      "id": "ObObq_bATeid"
    }
  ],
  "metadata": {
    "kernelspec": {
      "display_name": "attic-proposals",
      "language": "python",
      "name": "attic-proposals"
    },
    "language_info": {
      "codemirror_mode": {
        "name": "ipython",
        "version": 3
      },
      "file_extension": ".py",
      "mimetype": "text/x-python",
      "name": "python",
      "nbconvert_exporter": "python",
      "pygments_lexer": "ipython3",
      "version": "3.11.0"
    },
    "colab": {
      "provenance": []
    }
  },
  "nbformat": 4,
  "nbformat_minor": 5
}